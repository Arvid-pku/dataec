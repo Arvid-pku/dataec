{
 "metadata": {
  "language_info": {
   "codemirror_mode": {
    "name": "ipython",
    "version": 3
   },
   "file_extension": ".py",
   "mimetype": "text/x-python",
   "name": "python",
   "nbconvert_exporter": "python",
   "pygments_lexer": "ipython3",
   "version": "3.8.3-final"
  },
  "orig_nbformat": 2,
  "kernelspec": {
   "name": "python3",
   "display_name": "Python 3",
   "language": "python"
  }
 },
 "nbformat": 4,
 "nbformat_minor": 2,
 "cells": [
  {
   "cell_type": "code",
   "execution_count": 102,
   "metadata": {},
   "outputs": [],
   "source": [
    "import json\n",
    "import random\n",
    "from random import choice\n",
    "from tkinter import _flatten\n",
    "from tqdm import tqdm"
   ]
  },
  {
   "cell_type": "code",
   "execution_count": 103,
   "metadata": {},
   "outputs": [],
   "source": [
    "allentity = []"
   ]
  },
  {
   "cell_type": "code",
   "execution_count": 104,
   "metadata": {},
   "outputs": [],
   "source": [
    "# get all entity\n",
    "def getcandidate(filepath):\n",
    "    entity = []\n",
    "    with open(filepath) as f:\n",
    "        diclist = json.load(f)['entries']\n",
    "        for dic in diclist:\n",
    "            dic = list(dic.values())[0]\n",
    "            for ops in dic[\"modifiedtripleset\"]:\n",
    "                entity.append(' '.join(ops['subject'].split('_')).replace('\"', '').lower()) # 稍微的清洗数据\n",
    "                entity.append(' '.join(ops['object'].split('_')).replace('\"', '').lower())\n",
    "    return entity"
   ]
  },
  {
   "cell_type": "code",
   "execution_count": 105,
   "metadata": {},
   "outputs": [],
   "source": [
    "# change entity\n",
    "def change(wd):\n",
    "    if random.random() < 1:\n",
    "        return choice(allentity), True\n",
    "    else:\n",
    "        return wd, False"
   ]
  },
  {
   "cell_type": "code",
   "execution_count": 106,
   "metadata": {},
   "outputs": [],
   "source": [
    "# change sentence and mark where changed\n",
    "# 主要的工作\n",
    "# gold 是原句子\n",
    "# datadiclist 是这一句子对应的data列表（可以输出看一看）\n",
    "# datastr 是输出的data\n",
    "def makenoisy(gold, datadiclist, datastr):\n",
    "    noisytext = [gold]\n",
    "    # sum = 0\n",
    "    entitys = []\n",
    "    # get all entity in sentence \n",
    "    for datadic in datadiclist:\n",
    "        entitys.append(' '.join(datadic['subject'].lower().split('_')))\n",
    "        entitys.append(' '.join(datadic['object'].lower().split('_')))\n",
    "    # split by entity\n",
    "    for entity in entitys:\n",
    "        noisytext = [x.split(' '+entity' ') for x in noisytext]\n",
    "        z = []\n",
    "        for x in noisytext:\n",
    "            tmp = [x[0].strip()]\n",
    "            for y in x[1:]:\n",
    "                tmp.append(entity)\n",
    "                tmp.append(y.strip())\n",
    "            z.append(tmp)\n",
    "        noisytext = [x for x in list(_flatten(z)) if x]\n",
    "\n",
    "    changedid = []\n",
    "    originid = []\n",
    "    retext = []\n",
    "\n",
    "    # mark where changed\n",
    "    # wd is not a word but words\n",
    "    for i, wd in enumerate(noisytext):\n",
    "        if wd in entitys:\n",
    "            nwd, wh = change(wd)\n",
    "            if wh:\n",
    "                changedid.append(i)\n",
    "                originid.append(entitys.index(wd))\n",
    "                wd = nwd\n",
    "        retext.append(wd)\n",
    "    \n",
    "    prelen = 0\n",
    "    errortextpos = ''\n",
    "    corredatapos = ''\n",
    "\n",
    "    # from index to position\n",
    "    for i, wd in enumerate(retext):\n",
    "        if i in changedid:\n",
    "            errortextpos+='\\t'+str(prelen)+' '+str(prelen+len(wd.split(' ')))\n",
    "        prelen += len(wd.split(' '))\n",
    "    # data position\n",
    "    for i in originid:\n",
    "        lis = datastr.split('> '+entitys[i])\n",
    "        corredatapos+='\\t'+str(len(lis[0].strip().split(' ')))+' ' + str(len(lis[0].strip().split(' '))+len(entitys[i].split(' ')))\n",
    "    return ' '.join(retext), errortextpos[1:], corredatapos[1:]"
   ]
  },
  {
   "cell_type": "code",
   "execution_count": 107,
   "metadata": {},
   "outputs": [],
   "source": [
    "# change file, just some form\n",
    "def makepseudo(filepath):\n",
    "    with open(filepath) as f:\n",
    "        fsrcdata = open('../pseudo/' + filepath.split('_')[-1].split('.')[0] + '.src.data', 'w')\n",
    "        fsrctext = open('../pseudo/' + filepath.split('_')[-1].split('.')[0] + '.src.text', 'w')\n",
    "        ftgttext = open('../pseudo/' + filepath.split('_')[-1].split('.')[0] + '.tgt.text', 'w')\n",
    "        ftgtdatapos = open('../pseudo/' + filepath.split('_')[-1].split('.')[0] + '.tgt.datapos', 'w')\n",
    "        ftgttextpos = open('../pseudo/' + filepath.split('_')[-1].split('.')[0] + '.tgt.textpos', 'w')\n",
    "\n",
    "        diclist = json.load(f)['entries']\n",
    "        # 因为文件的结构\n",
    "        for dic in tqdm(diclist):\n",
    "            dic = list(dic.values())[0]\n",
    "            dic.pop('originaltriplesets')\n",
    "            textlist = dic.pop('lexicalisations')\n",
    "            textlist = [x['lex'] for x in textlist]\n",
    "            datastr = '<category> '+dic['category']+' <type> '+dic['shape_type']+' <sep>'\n",
    "            for datadic in dic[\"modifiedtripleset\"]:\n",
    "                datastr += ' <s> '+' '.join(datadic['subject'].split('_')).lower()+' <p> '+datadic['property']+' <o> '+' '.join(datadic['object'].split('_')).lower()\n",
    "            \n",
    "            datastr = datastr + ' ' + '<end>'\n",
    "            for text in textlist:\n",
    "                text = text.lower()\n",
    "                ftgttext.write(text+'\\n')\n",
    "                # 主要工作在makenoisy\n",
    "                noisytext, errortextpos, corredatapos = makenoisy(text, dic[\"modifiedtripleset\"], datastr)\n",
    "                fsrctext.write(noisytext + '\\n')\n",
    "                fsrcdata.write(datastr + '\\n')\n",
    "                ftgtdatapos.write(corredatapos + '\\n')\n",
    "                ftgttextpos.write(errortextpos + '\\n')\n",
    "        ftgttext.close() \n",
    "        fsrcdata.close()\n",
    "        fsrctext.close()\n",
    "        ftgttextpos.close()\n",
    "        ftgtdatapos.close()"
   ]
  },
  {
   "cell_type": "code",
   "execution_count": 108,
   "metadata": {},
   "outputs": [],
   "source": [
    "allentity=getcandidate('webnlg_release_v2.1_dev.json') + getcandidate('webnlg_release_v2.1_test.json') + getcandidate('webnlg_release_v2.1_train.json')\n"
   ]
  },
  {
   "cell_type": "code",
   "execution_count": 109,
   "metadata": {
    "tags": []
   },
   "outputs": [
    {
     "output_type": "stream",
     "name": "stderr",
     "text": [
      "100%|██████████| 1600/1600 [00:00<00:00, 4654.51it/s]\n",
      "100%|██████████| 1619/1619 [00:00<00:00, 5173.65it/s]\n",
      "100%|██████████| 12876/12876 [00:02<00:00, 5592.90it/s]\n"
     ]
    }
   ],
   "source": [
    "makepseudo('webnlg_release_v2.1_test.json')\n",
    "makepseudo('webnlg_release_v2.1_dev.json')\n",
    "makepseudo('webnlg_release_v2.1_train.json')"
   ]
  },
  {
   "cell_type": "code",
   "execution_count": 110,
   "metadata": {},
   "outputs": [
    {
     "output_type": "execute_result",
     "data": {
      "text/plain": [
       "93588"
      ]
     },
     "metadata": {},
     "execution_count": 110
    }
   ],
   "source": [
    "len(allentity)"
   ]
  },
  {
   "source": [
    "# to classify"
   ],
   "cell_type": "markdown",
   "metadata": {}
  },
  {
   "cell_type": "code",
   "execution_count": 111,
   "metadata": {},
   "outputs": [],
   "source": [
    "sss = ['train', 'dev', 'test']\n",
    "for ss in sss:\n",
    "    with open('../pseudo/' + ss + '.tgt.textpos') as f:\n",
    "        tof = open('../pseudo/' + ss + '.tgt.textlabel', 'w')\n",
    "        ftext = open('../pseudo/' + ss + '.src.text')\n",
    "        for line, tl in zip(f, ftext):\n",
    "            lis = [int(a) for b in [x.split(' ') for x in line.strip().split('\\t')] for a in b if a]\n",
    "            res = ['0']*len(tl.strip().split(' '))\n",
    "            for i in range(0, len(lis), 2):\n",
    "                res[lis[i]:lis[i+1]] = ['2']*(lis[i+1]-lis[i])\n",
    "                res[lis[i]] = '1'\n",
    "            tof.write(' '.join(res)+'\\n')\n",
    "        tof.close()\n"
   ]
  },
  {
   "source": [
    "# check"
   ],
   "cell_type": "markdown",
   "metadata": {}
  },
  {
   "cell_type": "code",
   "execution_count": 112,
   "metadata": {},
   "outputs": [],
   "source": [
    "f1 = open('../pseudo/dev.src.text')\n",
    "f2 = open('../pseudo/dev.tgt.textlabel')\n",
    "for l1, l2 in zip(f1, f2):\n",
    "    if (len(l1.strip().split(' ')) != len(l2.strip().split(' '))):\n",
    "        print(1)"
   ]
  },
  {
   "source": [
    "# data label"
   ],
   "cell_type": "markdown",
   "metadata": {}
  },
  {
   "cell_type": "code",
   "execution_count": 113,
   "metadata": {},
   "outputs": [],
   "source": [
    "sss = ['train', 'dev', 'test']\n",
    "for ss in sss:\n",
    "    with open('../pseudo/'+ss+'.src.data') as f:\n",
    "        tof = open('../pseudo/'+ss+'.tgt.data', 'w')\n",
    "        for ii, line in enumerate(f):\n",
    "            line = [x for x in line.strip().split(' ') if x]\n",
    "            tof.write(' '.join(line)+'\\n')\n",
    "        tof.close()"
   ]
  },
  {
   "cell_type": "code",
   "execution_count": 114,
   "metadata": {},
   "outputs": [],
   "source": [
    "sss = ['train', 'dev', 'test']\n",
    "for ss in sss:\n",
    "    with open('../pseudo/'+ss+'.src.data') as f:\n",
    "        tof = open('../pseudo/'+ss+'.tgt.datalabel', 'w')\n",
    "        for ii, line in enumerate(f):\n",
    "            forth, line = line.strip().split('<sep>')\n",
    "            wdlist = [x for x in line.strip().split(' ') if x]\n",
    "            forth = [x for x in forth.strip().split(' ') if x]\n",
    "            lblist = ['0']*len(wdlist)\n",
    "            for i, s in enumerate(wdlist):\n",
    "                try:\n",
    "                    if s[0] != '<' and s[-1] != '>':\n",
    "                        if lblist[i-1] == '0':\n",
    "                            lblist[i] = '1'\n",
    "                        else:\n",
    "                            lblist[i] = '2'\n",
    "                except IndexError:\n",
    "                    print(ii)\n",
    "                    print(wdlist)\n",
    "                    print(s)\n",
    "                    raise\n",
    "            lblist = ['0']*(len(forth)+1) + lblist\n",
    "            tof.write(' '.join(lblist)+'\\n')\n",
    "        tof.close()"
   ]
  },
  {
   "cell_type": "code",
   "execution_count": 115,
   "metadata": {
    "tags": []
   },
   "outputs": [
    {
     "output_type": "stream",
     "name": "stdout",
     "text": [
      "335\n[0, 3, 17, 18]\ntrain\n['0', '0', '0', '0', '0', '0', '1', '2', '2', '0', '1', '0', '1', '0']\n[-1, -1, -1, -1, -1, -1, 0, -1, -1, -1, 1, -1, 2, -1]\n"
     ]
    },
    {
     "output_type": "error",
     "ename": "IndexError",
     "evalue": "list index out of range",
     "traceback": [
      "\u001b[0;31m---------------------------------------------------------------------------\u001b[0m",
      "\u001b[0;31mIndexError\u001b[0m                                Traceback (most recent call last)",
      "\u001b[0;32m<ipython-input-115-62cb1f2dd64e>\u001b[0m in \u001b[0;36m<module>\u001b[0;34m\u001b[0m\n\u001b[1;32m     17\u001b[0m             \u001b[0;32mfor\u001b[0m \u001b[0mi\u001b[0m \u001b[0;32min\u001b[0m \u001b[0mrange\u001b[0m\u001b[0;34m(\u001b[0m\u001b[0;36m0\u001b[0m\u001b[0;34m,\u001b[0m \u001b[0mlen\u001b[0m\u001b[0;34m(\u001b[0m\u001b[0mpos\u001b[0m\u001b[0;34m)\u001b[0m\u001b[0;34m,\u001b[0m \u001b[0;36m2\u001b[0m\u001b[0;34m)\u001b[0m\u001b[0;34m:\u001b[0m\u001b[0;34m\u001b[0m\u001b[0;34m\u001b[0m\u001b[0m\n\u001b[1;32m     18\u001b[0m                 \u001b[0;32mtry\u001b[0m\u001b[0;34m:\u001b[0m\u001b[0;34m\u001b[0m\u001b[0;34m\u001b[0m\u001b[0m\n\u001b[0;32m---> 19\u001b[0;31m                     \u001b[0mtolist\u001b[0m\u001b[0;34m.\u001b[0m\u001b[0mappend\u001b[0m\u001b[0;34m(\u001b[0m\u001b[0mstr\u001b[0m\u001b[0;34m(\u001b[0m\u001b[0mlabelnum\u001b[0m\u001b[0;34m[\u001b[0m\u001b[0mpos\u001b[0m\u001b[0;34m[\u001b[0m\u001b[0mi\u001b[0m\u001b[0;34m]\u001b[0m\u001b[0;34m]\u001b[0m\u001b[0;34m)\u001b[0m\u001b[0;34m)\u001b[0m\u001b[0;34m\u001b[0m\u001b[0;34m\u001b[0m\u001b[0m\n\u001b[0m\u001b[1;32m     20\u001b[0m                 \u001b[0;32mexcept\u001b[0m \u001b[0mIndexError\u001b[0m\u001b[0;34m:\u001b[0m\u001b[0;34m\u001b[0m\u001b[0;34m\u001b[0m\u001b[0m\n\u001b[1;32m     21\u001b[0m                     \u001b[0mprint\u001b[0m\u001b[0;34m(\u001b[0m\u001b[0myxj\u001b[0m\u001b[0;34m)\u001b[0m\u001b[0;34m\u001b[0m\u001b[0;34m\u001b[0m\u001b[0m\n",
      "\u001b[0;31mIndexError\u001b[0m: list index out of range"
     ]
    }
   ],
   "source": [
    "sss = ['train', 'dev', 'test']\n",
    "for ss in sss:\n",
    "    with open('../pseudo/'+ss+'.tgt.datalabel') as f:\n",
    "        ff = open('../pseudo/'+ss+'.tgt.datapos', 'r')\n",
    "        tof = open('../pseudo/'+ss+'.tgt.dataptr', 'w')\n",
    "\n",
    "        for yxj, (label, pos) in enumerate(zip(f, ff)):\n",
    "            pos = [int(tt) for t in pos.strip().split('\\t') for tt in t.strip().split(' ') if tt]\n",
    "            tolist = []\n",
    "            nownum = 0\n",
    "            labellist = label.strip().split(' ')\n",
    "            labelnum = [-1] * len(labellist)\n",
    "            for i, n in enumerate(labellist):\n",
    "                if n == '1':\n",
    "                    labelnum[i] = nownum                    \n",
    "                    nownum += 1\n",
    "            for i in range(0, len(pos), 2):\n",
    "                try:\n",
    "                    tolist.append(str(labelnum[pos[i]]))\n",
    "                except IndexError:\n",
    "                    print(yxj)\n",
    "                    print(pos)\n",
    "                    print(ss)\n",
    "                    print(labellist)\n",
    "                    print(labelnum)\n",
    "                    raise\n",
    "            tof.write(' '.join(tolist)+'\\n')\n",
    "        tof.close()"
   ]
  },
  {
   "cell_type": "code",
   "execution_count": null,
   "metadata": {},
   "outputs": [],
   "source": []
  },
  {
   "cell_type": "code",
   "execution_count": null,
   "metadata": {},
   "outputs": [],
   "source": []
  },
  {
   "cell_type": "code",
   "execution_count": null,
   "metadata": {},
   "outputs": [],
   "source": []
  },
  {
   "cell_type": "code",
   "execution_count": null,
   "metadata": {},
   "outputs": [],
   "source": []
  }
 ]
}