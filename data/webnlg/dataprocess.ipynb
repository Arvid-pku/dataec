{
 "metadata": {
  "language_info": {
   "codemirror_mode": {
    "name": "ipython",
    "version": 3
   },
   "file_extension": ".py",
   "mimetype": "text/x-python",
   "name": "python",
   "nbconvert_exporter": "python",
   "pygments_lexer": "ipython3",
   "version": "3.8.5-final"
  },
  "orig_nbformat": 2,
  "kernelspec": {
   "name": "python3",
   "display_name": "Python 3",
   "language": "python"
  }
 },
 "nbformat": 4,
 "nbformat_minor": 2,
 "cells": [
  {
   "cell_type": "code",
   "execution_count": 20,
   "metadata": {},
   "outputs": [],
   "source": [
    "import json\n",
    "import random\n",
    "from random import choice\n",
    "from tkinter import _flatten\n",
    "from tqdm import tqdm"
   ]
  },
  {
   "cell_type": "code",
   "execution_count": 21,
   "metadata": {},
   "outputs": [],
   "source": [
    "allentity = []"
   ]
  },
  {
   "cell_type": "code",
   "execution_count": 22,
   "metadata": {},
   "outputs": [],
   "source": [
    "# get all entity\n",
    "def getcandidate(filepath):\n",
    "    entity = []\n",
    "    with open(filepath) as f:\n",
    "        diclist = json.load(f)['entries']\n",
    "        for dic in diclist:\n",
    "            dic = list(dic.values())[0]\n",
    "            for ops in dic[\"modifiedtripleset\"]:\n",
    "                entity.append(' '.join(ops['subject'].split('_')).replace('\"', '').lower())\n",
    "                entity.append(' '.join(ops['object'].split('_')).replace('\"', '').lower())\n",
    "    return entity"
   ]
  },
  {
   "cell_type": "code",
   "execution_count": 23,
   "metadata": {},
   "outputs": [],
   "source": [
    "# change entity\n",
    "def change(wd):\n",
    "    if random.random() < 0.5:\n",
    "        return choice(allentity), True\n",
    "    else:\n",
    "        return wd, False"
   ]
  },
  {
   "cell_type": "code",
   "execution_count": 24,
   "metadata": {},
   "outputs": [],
   "source": [
    "# change sentence and mark where changed\n",
    "def makenoisy(gold, datadiclist, datastr):\n",
    "    noisytext = [gold]\n",
    "    # sum = 0\n",
    "    entitys = []\n",
    "    # get all entity in sentence \n",
    "    for datadic in datadiclist:\n",
    "        entitys.append(' '.join(datadic['subject'].lower().split('_')))\n",
    "        entitys.append(' '.join(datadic['object'].lower().split('_')))\n",
    "    # split by entity\n",
    "    for entity in entitys:\n",
    "        noisytext = [x.split(entity) for x in noisytext]\n",
    "        z = []\n",
    "        for x in noisytext:\n",
    "            tmp = [x[0].strip()]\n",
    "            for y in x[1:]:\n",
    "                tmp.append(entity)\n",
    "                tmp.append(y.strip())\n",
    "            z.append(tmp)\n",
    "        noisytext = [x for x in list(_flatten(z)) if x]\n",
    "\n",
    "    changedid = []\n",
    "    originid = []\n",
    "    retext = []\n",
    "\n",
    "    # mark where changed\n",
    "    # wd is not a word but words\n",
    "    for i, wd in enumerate(noisytext):\n",
    "        if wd in entitys:\n",
    "            nwd, wh = change(wd)\n",
    "            if wh:\n",
    "                changedid.append(i)\n",
    "                originid.append(entitys.index(wd))\n",
    "                wd = nwd\n",
    "        retext.append(wd)\n",
    "    \n",
    "    prelen = 0\n",
    "    errortextpos = ''\n",
    "    corredatapos = ''\n",
    "\n",
    "    # from index to position\n",
    "    for i, wd in enumerate(retext):\n",
    "        if i in changedid:\n",
    "            errortextpos+='\\t'+str(prelen)+' '+str(prelen+len(wd.split(' ')))\n",
    "        prelen += len(wd.split(' '))\n",
    "    # data position\n",
    "    for i in originid:\n",
    "        lis = datastr.split(entitys[i])\n",
    "        corredatapos+='\\t'+str(len(lis[0].strip().split(' ')))+' ' + str(len(lis[0].strip().split(' '))+len(entitys[i].split(' ')))\n",
    "    return ' '.join(retext), errortextpos[1:], corredatapos[1:]"
   ]
  },
  {
   "cell_type": "code",
   "execution_count": 25,
   "metadata": {},
   "outputs": [],
   "source": [
    "# change file, just some form\n",
    "def makepseudo(filepath):\n",
    "    with open(filepath) as f:\n",
    "        fsrcdata = open('../pseudo/' + filepath.split('_')[-1].split('.')[0] + '.src.data', 'w')\n",
    "        fsrctext = open('../pseudo/' + filepath.split('_')[-1].split('.')[0] + '.src.text', 'w')\n",
    "        ftgttext = open('../pseudo/' + filepath.split('_')[-1].split('.')[0] + '.tgt.text', 'w')\n",
    "        ftgtdatapos = open('../pseudo/' + filepath.split('_')[-1].split('.')[0] + '.tgt.datapos', 'w')\n",
    "        ftgttextpos = open('../pseudo/' + filepath.split('_')[-1].split('.')[0] + '.tgt.textpos', 'w')\n",
    "\n",
    "        diclist = json.load(f)['entries']\n",
    "        for dic in tqdm(diclist):\n",
    "            dic = list(dic.values())[0]\n",
    "            dic.pop('originaltriplesets')\n",
    "            textlist = dic.pop('lexicalisations')\n",
    "            textlist = [x['lex'] for x in textlist]\n",
    "            datastr = '<category> '+dic['category']+' <type> '+dic['shape_type']+' <sep>'\n",
    "            for datadic in dic[\"modifiedtripleset\"]:\n",
    "                datastr += ' <s> '+' '.join(datadic['subject'].split('_')).lower()+' <p> '+datadic['property']+' <o> '+' '.join(datadic['object'].split('_')).lower()\n",
    "            for text in textlist:\n",
    "                text = text.lower()\n",
    "                ftgttext.write(text+'\\n')\n",
    "                noisytext, errortextpos, corredatapos = makenoisy(text, dic[\"modifiedtripleset\"], datastr)\n",
    "                fsrctext.write(noisytext + '\\n')\n",
    "                fsrcdata.write(datastr + '\\n')\n",
    "                ftgtdatapos.write(corredatapos + '\\n')\n",
    "                ftgttextpos.write(errortextpos + '\\n')\n",
    "        ftgttext.close() \n",
    "        fsrcdata.close()\n",
    "        fsrctext.close()\n",
    "        ftgttextpos.close()\n",
    "        ftgtdatapos.close()"
   ]
  },
  {
   "cell_type": "code",
   "execution_count": 26,
   "metadata": {},
   "outputs": [],
   "source": [
    "allentity=getcandidate('webnlg_release_v2.1_dev.json') + getcandidate('webnlg_release_v2.1_test.json') + getcandidate('webnlg_release_v2.1_train.json')\n"
   ]
  },
  {
   "cell_type": "code",
   "execution_count": 27,
   "metadata": {
    "tags": []
   },
   "outputs": [
    {
     "output_type": "stream",
     "name": "stderr",
     "text": [
      "100%|██████████| 1600/1600 [00:00<00:00, 8173.40it/s] \n",
      "100%|██████████| 1619/1619 [00:00<00:00, 8851.31it/s] \n",
      "100%|██████████| 12876/12876 [00:01<00:00, 9717.49it/s]\n"
     ]
    }
   ],
   "source": [
    "makepseudo('webnlg_release_v2.1_test.json')\n",
    "makepseudo('webnlg_release_v2.1_dev.json')\n",
    "makepseudo('webnlg_release_v2.1_train.json')"
   ]
  },
  {
   "cell_type": "code",
   "execution_count": 28,
   "metadata": {},
   "outputs": [
    {
     "output_type": "execute_result",
     "data": {
      "text/plain": [
       "93588"
      ]
     },
     "metadata": {},
     "execution_count": 28
    }
   ],
   "source": [
    "len(allentity)"
   ]
  },
  {
   "cell_type": "code",
   "execution_count": null,
   "metadata": {},
   "outputs": [],
   "source": []
  }
 ]
}