{
 "metadata": {
  "language_info": {
   "codemirror_mode": {
    "name": "ipython",
    "version": 3
   },
   "file_extension": ".py",
   "mimetype": "text/x-python",
   "name": "python",
   "nbconvert_exporter": "python",
   "pygments_lexer": "ipython3",
   "version": "3.6.12-final"
  },
  "orig_nbformat": 2,
  "kernelspec": {
   "name": "python3",
   "display_name": "Python 3",
   "language": "python"
  }
 },
 "nbformat": 4,
 "nbformat_minor": 2,
 "cells": [
  {
   "cell_type": "code",
   "execution_count": 15,
   "metadata": {},
   "outputs": [],
   "source": [
    "import xml.etree.cElementTree as ET\n",
    "tree = ET.ElementTree(file='test.xml') \n",
    "root = tree.getroot()[0]"
   ]
  },
  {
   "cell_type": "code",
   "execution_count": 22,
   "metadata": {},
   "outputs": [
    {
     "output_type": "execute_result",
     "data": {
      "text/plain": [
       "'Airport'"
      ]
     },
     "metadata": {},
     "execution_count": 22
    }
   ],
   "source": [
    "root[0].attrib['category']"
   ]
  },
  {
   "cell_type": "code",
   "execution_count": 32,
   "metadata": {
    "tags": []
   },
   "outputs": [],
   "source": [
    "ftgttext = open('test.tgt.text', 'w')\n",
    "fsrcdata = open('test.src.data', 'w')\n",
    "ftgtdatalabel = open('test.tgt.datalabel', 'w')\n",
    "for unit in root:\n",
    "    ctg = '<category> '+unit.attrib['category']+' <sep> '\n",
    "    dlabel = ['0']+['0']*(len(unit.attrib['category'].split(' ')))+['0']\n",
    "    for tag in unit:\n",
    "        if tag.tag == 'originaltripleset':\n",
    "            pass\n",
    "        elif tag.tag == 'modifiedtripleset':\n",
    "            datas = []\n",
    "            for data in tag:\n",
    "                datas.append([' '.join(x.strip().replace('\"', '').split('_')) for x in data.text.lower().strip().split('|')])\n",
    "            for data in datas:\n",
    "                ctg+='<s> '+data[0]+' <p> '+data[1]+' <o> '+data[2]\n",
    "                dlabel+=['0']+['1']+['2']*(len(data[0].split(' '))-1)+['0']+['1']+['2']*(len(data[1].split(' '))-1)+['0']+['1']+['2']*(len(data[2].split(' '))-1)\n",
    "            fsrcdata.write(ctg.lower()+' <end>\\n')\n",
    "            ftgtdatalabel.write(' '.join(dlabel+['0'])+'\\n')\n",
    "        else:\n",
    "            ftgttext.write(tag.text.strip().lower()+'\\n')\n",
    "ftgttext.close()\n",
    "fsrcdata.close()\n",
    "ftgtdatalabel.close()\n"
   ]
  },
  {
   "cell_type": "code",
   "execution_count": 23,
   "metadata": {},
   "outputs": [
    {
     "output_type": "execute_result",
     "data": {
      "text/plain": [
       "[]"
      ]
     },
     "metadata": {},
     "execution_count": 23
    }
   ],
   "source": [
    "[1]*0"
   ]
  },
  {
   "cell_type": "code",
   "execution_count": 31,
   "metadata": {},
   "outputs": [
    {
     "output_type": "execute_result",
     "data": {
      "text/plain": [
       "'kkh'"
      ]
     },
     "metadata": {},
     "execution_count": 31
    }
   ],
   "source": [
    "'kgh'.replace('g', 'k')"
   ]
  },
  {
   "cell_type": "code",
   "execution_count": null,
   "metadata": {},
   "outputs": [],
   "source": []
  }
 ]
}